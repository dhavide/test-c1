{
 "cells": [
  {
   "cell_type": "markdown",
   "metadata": {},
   "source": [
    "<center>\n",
    "    <tr>\n",
    "    <td><img src=\"./images/quansight-logo.png\" width=\"25%\"></img></td>\n",
    "    <td><img src=\"./images/capital-one-logo.png\" width=\"25%\"></img></td>\n",
    "    </tr>\n",
    "</center>"
   ]
  },
  {
   "cell_type": "markdown",
   "metadata": {},
   "source": [
    "# Verifying packages in the environment"
   ]
  },
  {
   "cell_type": "code",
   "execution_count": null,
   "metadata": {},
   "outputs": [],
   "source": [
    "import dask\n",
    "import pathlib\n",
    "import pandas as pd\n",
    "import dask.dataframe as dd\n",
    "print(f'Dask version: {dask.__version__}')\n",
    "print(f'Pandas version: {pd.__version__}')"
   ]
  },
  {
   "cell_type": "code",
   "execution_count": null,
   "metadata": {},
   "outputs": [],
   "source": [
    "import dask_ml, dask_glm\n",
    "print(f'Dask-ML version: {dask_ml.__version__}')\n",
    "print(f'Dask-GLM version: {dask_glm.__version__}')"
   ]
  },
  {
   "cell_type": "markdown",
   "metadata": {},
   "source": [
    "# Copying files from the `shared` folder\n",
    "\n",
    "In each user's home folder (`/home/joyvan/`), there is a symbolic link to a `shared` folder. Within the `shared` folder is a subfolder `capitalone-users` and another called `admin`. We'll now copy data from the `shared/capitalone-users/data` into a local folder called `data`."
   ]
  },
  {
   "cell_type": "code",
   "execution_count": null,
   "metadata": {},
   "outputs": [],
   "source": [
    "topdir = pathlib.Path().cwd()\n",
    "local_data = topdir / 'data'\n",
    "# 1. Creating local sub-folder data if necessary\n",
    "if (not local_data.exists()):\n",
    "    print(f'Making local directory {local_data}...')\n",
    "    local_data.mkdir()"
   ]
  },
  {
   "cell_type": "code",
   "execution_count": null,
   "metadata": {},
   "outputs": [],
   "source": [
    "# 2. Downloading files from shared into local data if necessary\n",
    "%run prep.py -d flights\n",
    "flight_data = local_data / 'nycflights'"
   ]
  },
  {
   "cell_type": "markdown",
   "metadata": {},
   "source": [
    "# A few sample Dask dataframe computations\n",
    "\n",
    "Having copied the data locally, let's check that a few Dask computations work as intended.\n",
    "\n",
    "First, let's load & examine all the CSV files of delay information for flights to or from New York City airports from the 1990s. There are ten files (one for each year) but they are represented by a single Dask dataframe."
   ]
  },
  {
   "cell_type": "code",
   "execution_count": null,
   "metadata": {},
   "outputs": [],
   "source": [
    "flight_csvs = list(flight_data.glob('*.csv'))\n",
    "\n",
    "df = dd.read_csv(flight_csvs,\n",
    "                 parse_dates={'Date': [0, 1, 2]},\n",
    "                 dtype={'TailNum': str,\n",
    "                        'CRSElapsedTime': float,\n",
    "                        'Cancelled': bool},\n",
    "                 assume_missing=True)"
   ]
  },
  {
   "cell_type": "code",
   "execution_count": null,
   "metadata": {},
   "outputs": [],
   "source": [
    "df.head()"
   ]
  },
  {
   "cell_type": "markdown",
   "metadata": {},
   "source": [
    "### 1.) How many rows are in our dataset?\n",
    "\n",
    "If you aren't familiar with Pandas, how would you check how many records are in a list of tuples?"
   ]
  },
  {
   "cell_type": "code",
   "execution_count": null,
   "metadata": {},
   "outputs": [],
   "source": [
    "len(df)"
   ]
  },
  {
   "cell_type": "markdown",
   "metadata": {},
   "source": [
    "### 2.) In total, how many non-canceled flights were taken?\n",
    "\n",
    "With Pandas, you would use [boolean indexing](https://pandas.pydata.org/pandas-docs/stable/indexing.html#boolean-indexing).\n"
   ]
  },
  {
   "cell_type": "code",
   "execution_count": null,
   "metadata": {},
   "outputs": [],
   "source": [
    "non_cancelled = df.loc[~df.Cancelled]\n",
    "len(non_cancelled)"
   ]
  },
  {
   "cell_type": "markdown",
   "metadata": {},
   "source": [
    "### 3.) In total, how many non-cancelled flights were taken from each airport?\n",
    "\n",
    "Hint: use [`df.groupby`](https://pandas.pydata.org/docs/reference/api/pandas.DataFrame.groupby.html).\n"
   ]
  },
  {
   "cell_type": "code",
   "execution_count": null,
   "metadata": {},
   "outputs": [],
   "source": [
    "result = (non_cancelled\n",
    "            .groupby('Origin')   # groups rows according to Origin column\n",
    "            .Origin              # extracts only Origin column\n",
    "            .count()             # aggregates count\n",
    "         )"
   ]
  },
  {
   "cell_type": "code",
   "execution_count": null,
   "metadata": {},
   "outputs": [],
   "source": [
    "result.compute()"
   ]
  }
 ],
 "metadata": {
  "kernelspec": {
   "display_name": "Python 3",
   "language": "python",
   "name": "python3"
  },
  "language_info": {
   "codemirror_mode": {
    "name": "ipython",
    "version": 3
   },
   "file_extension": ".py",
   "mimetype": "text/x-python",
   "name": "python",
   "nbconvert_exporter": "python",
   "pygments_lexer": "ipython3",
   "version": "3.7.8"
  }
 },
 "nbformat": 4,
 "nbformat_minor": 4
}
